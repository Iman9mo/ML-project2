{
 "cells": [
  {
   "cell_type": "code",
   "id": "initial_id",
   "metadata": {
    "collapsed": true,
    "jupyter": {
     "is_executing": true
    },
    "ExecuteTime": {
     "start_time": "2024-11-22T16:09:10.536633Z"
    }
   },
   "source": [
    "import matplotlib.pyplot as plt\n",
    "from sklearn.model_selection import train_test_split\n",
    "from sklearn.tree import DecisionTreeClassifier\n",
    "from sklearn.svm import SVC\n",
    "from sklearn.metrics import classification_report, confusion_matrix, ConfusionMatrixDisplay\n",
    "import pandas as pd\n",
    "\n",
    "data = pd.read_csv('sobel_hog_reduced.csv')\n",
    "X = data.iloc[:, :-1].values  # All columns except the last\n",
    "y = data.iloc[:, -1].values  # labels\n",
    "\n",
    "# Split the dataset into training and testing sets\n",
    "X_train, X_test, y_train, y_test = train_test_split(X, y, test_size=0.2, random_state=42)\n",
    "\n",
    "# Train Decision Tree model\n",
    "print(\"Training Decision Tree...\")\n",
    "dt_model = DecisionTreeClassifier(random_state=42, max_depth=20, min_samples_leaf=20, criterion='entropy')\n",
    "dt_model.fit(X_train, y_train)\n",
    "\n",
    "# Train SVM model\n",
    "print(\"Training SVM...\")\n",
    "svm_model = SVC(kernel='linear', random_state=42)\n",
    "svm_model.fit(X_train, y_train)\n",
    "\n",
    "# Evaluate the models\n",
    "def evaluate_model(y_true, y_pred, class_names=None):\n",
    "    # Generate classification report\n",
    "    report = classification_report(y_true, y_pred, target_names=class_names, output_dict=True)\n",
    "    \n",
    "    print(\"Classification Report:\")\n",
    "    for cls, metrics in report.items():\n",
    "        if cls not in {\"accuracy\", \"macro avg\", \"weighted avg\"}:\n",
    "            print(f\"Class {cls}:\")\n",
    "            print(f\"  Precision: {metrics['precision']:.4f}\")\n",
    "            print(f\"  Recall:    {metrics['recall']:.4f}\")\n",
    "            print(f\"  F1-score:  {metrics['f1-score']:.4f}\")\n",
    "            print()\n",
    "    \n",
    "    # Generate confusion matrix\n",
    "    cm = confusion_matrix(y_true, y_pred)\n",
    "    disp = ConfusionMatrixDisplay(confusion_matrix=cm, display_labels=class_names)\n",
    "    \n",
    "    # Plot confusion matrix as a heatmap\n",
    "    plt.figure(figsize=(10, 8))\n",
    "    disp.plot(cmap='Blues', xticks_rotation=\"vertical\", ax=plt.gca())\n",
    "    plt.title(\"Confusion Matrix Heatmap\")\n",
    "    plt.show()\n",
    "\n",
    "# Predict and evaluate the Decision Tree model\n",
    "print(\"\\nEvaluating Decision Tree...\")\n",
    "y_pred_dt = dt_model.predict(X_test)\n",
    "evaluate_model(y_test, y_pred_dt, class_names=[str(i) for i in range(10)])\n",
    "\n",
    "# Predict and evaluate the SVM model\n",
    "print(\"\\nEvaluating SVM...\")\n",
    "y_pred_svm = svm_model.predict(X_test)\n",
    "evaluate_model(y_test, y_pred_svm, class_names=[str(i) for i in range(10)])\n"
   ],
   "outputs": [
    {
     "name": "stdout",
     "output_type": "stream",
     "text": [
      "Training Decision Tree...\n"
     ]
    }
   ],
   "execution_count": null
  }
 ],
 "metadata": {
  "kernelspec": {
   "display_name": "Python 3",
   "language": "python",
   "name": "python3"
  },
  "language_info": {
   "codemirror_mode": {
    "name": "ipython",
    "version": 2
   },
   "file_extension": ".py",
   "mimetype": "text/x-python",
   "name": "python",
   "nbconvert_exporter": "python",
   "pygments_lexer": "ipython2",
   "version": "2.7.6"
  }
 },
 "nbformat": 4,
 "nbformat_minor": 5
}
