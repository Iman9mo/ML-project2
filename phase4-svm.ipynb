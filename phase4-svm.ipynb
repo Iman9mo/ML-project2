{
 "cells": [
  {
   "cell_type": "code",
   "id": "initial_id",
   "metadata": {
    "collapsed": true,
    "ExecuteTime": {
     "end_time": "2024-11-23T07:10:46.228319Z",
     "start_time": "2024-11-23T07:10:31.260751Z"
    }
   },
   "source": [
    "import matplotlib.pyplot as plt\n",
    "from sklearn.model_selection import train_test_split\n",
    "from sklearn.tree import DecisionTreeClassifier\n",
    "from sklearn.svm import SVC\n",
    "from sklearn.metrics import classification_report, confusion_matrix, ConfusionMatrixDisplay\n",
    "from sklearn.preprocessing import StandardScaler\n",
    "from sklearn.decomposition import PCA\n",
    "import pandas as pd\n",
    "\n",
    "# Load the dataset\n",
    "data = pd.read_csv('sobel_hog_reduced.csv')\n",
    "X = data.iloc[:, :-1].values  # All columns except the last\n",
    "y = data.iloc[:, -1].values  # labels\n",
    "\n",
    "# Split the dataset into training and testing sets\n",
    "X_train, X_test, y_train, y_test = train_test_split(X, y, test_size=0.2, random_state=42)\n",
    "\n",
    "# Scale the features\n",
    "scaler = StandardScaler()\n",
    "X_train = scaler.fit_transform(X_train)\n",
    "X_test = scaler.transform(X_test)\n",
    "\n",
    "\n",
    "# Train SVM model\n",
    "print(\"Training SVM...\")\n",
    "svm_model = SVC(kernel='linear', random_state=42, n_jobs=-1)  # Use all available cores\n",
    "svm_model.fit(X_train, y_train)\n",
    "\n",
    "# Evaluate the models\n",
    "def evaluate_model(y_true, y_pred, class_names=None):\n",
    "    # Generate classification report\n",
    "    report = classification_report(y_true, y_pred, target_names=class_names, output_dict=True)\n",
    "    \n",
    "    print(\"Classification Report:\")\n",
    "    for cls, metrics in report.items():\n",
    "        if cls not in {\"accuracy\", \"macro avg\", \"weighted avg\"}:\n",
    "            print(f\"Class {cls}:\")\n",
    "            print(f\"  Precision: {metrics['precision']:.4f}\")\n",
    "            print(f\"  Recall:    {metrics['recall']:.4f}\")\n",
    "            print(f\"  F1-score:  {metrics['f1-score']:.4f}\")\n",
    "            print()\n",
    "    \n",
    "    # Generate confusion matrix\n",
    "    cm = confusion_matrix(y_true, y_pred)\n",
    "    disp = ConfusionMatrixDisplay(confusion_matrix=cm, display_labels=class_names)\n",
    "    \n",
    "    # Plot confusion matrix as a heatmap\n",
    "    plt.figure(figsize=(10, 8))\n",
    "    disp.plot(cmap='Blues', xticks_rotation=\"vertical\", ax=plt.gca())\n",
    "    plt.title(\"Confusion Matrix Heatmap\")\n",
    "    plt.show()\n",
    "\n",
    "# Predict and evaluate the SVM model\n",
    "print(\"\\nEvaluating SVM...\")\n",
    "y_pred_svm = svm_model.predict(X_test)\n",
    "evaluate_model(y_test, y_pred_svm, class_names=[str(i) for i in range(10)])\n"
   ],
   "outputs": [
    {
     "name": "stdout",
     "output_type": "stream",
     "text": [
      "Training SVM...\n"
     ]
    },
    {
     "ename": "TypeError",
     "evalue": "SVC.__init__() got an unexpected keyword argument 'n_jobs'",
     "output_type": "error",
     "traceback": [
      "\u001B[1;31m---------------------------------------------------------------------------\u001B[0m",
      "\u001B[1;31mTypeError\u001B[0m                                 Traceback (most recent call last)",
      "Cell \u001B[1;32mIn[1], line 26\u001B[0m\n\u001B[0;32m     24\u001B[0m \u001B[38;5;66;03m# Train SVM model\u001B[39;00m\n\u001B[0;32m     25\u001B[0m \u001B[38;5;28mprint\u001B[39m(\u001B[38;5;124m\"\u001B[39m\u001B[38;5;124mTraining SVM...\u001B[39m\u001B[38;5;124m\"\u001B[39m)\n\u001B[1;32m---> 26\u001B[0m svm_model \u001B[38;5;241m=\u001B[39m \u001B[43mSVC\u001B[49m\u001B[43m(\u001B[49m\u001B[43mkernel\u001B[49m\u001B[38;5;241;43m=\u001B[39;49m\u001B[38;5;124;43m'\u001B[39;49m\u001B[38;5;124;43mlinear\u001B[39;49m\u001B[38;5;124;43m'\u001B[39;49m\u001B[43m,\u001B[49m\u001B[43m \u001B[49m\u001B[43mrandom_state\u001B[49m\u001B[38;5;241;43m=\u001B[39;49m\u001B[38;5;241;43m42\u001B[39;49m\u001B[43m,\u001B[49m\u001B[43m \u001B[49m\u001B[43mn_jobs\u001B[49m\u001B[38;5;241;43m=\u001B[39;49m\u001B[38;5;241;43m-\u001B[39;49m\u001B[38;5;241;43m1\u001B[39;49m\u001B[43m)\u001B[49m  \u001B[38;5;66;03m# Use all available cores\u001B[39;00m\n\u001B[0;32m     27\u001B[0m svm_model\u001B[38;5;241m.\u001B[39mfit(X_train, y_train)\n\u001B[0;32m     29\u001B[0m \u001B[38;5;66;03m# Evaluate the models\u001B[39;00m\n",
      "\u001B[1;31mTypeError\u001B[0m: SVC.__init__() got an unexpected keyword argument 'n_jobs'"
     ]
    }
   ],
   "execution_count": 1
  }
 ],
 "metadata": {
  "kernelspec": {
   "display_name": "Python 3",
   "language": "python",
   "name": "python3"
  },
  "language_info": {
   "codemirror_mode": {
    "name": "ipython",
    "version": 2
   },
   "file_extension": ".py",
   "mimetype": "text/x-python",
   "name": "python",
   "nbconvert_exporter": "python",
   "pygments_lexer": "ipython2",
   "version": "2.7.6"
  }
 },
 "nbformat": 4,
 "nbformat_minor": 5
}
