{
 "cells": [
  {
   "cell_type": "code",
   "id": "initial_id",
   "metadata": {
    "collapsed": true,
    "ExecuteTime": {
     "end_time": "2024-11-19T06:16:18.095538Z",
     "start_time": "2024-11-19T06:16:12.517447Z"
    }
   },
   "source": [
    "import numpy as np\n",
    "import matplotlib.pyplot as plt\n",
    "from sklearn.datasets import fetch_openml\n",
    "\n",
    "# Load MNIST dataset\n",
    "def load_mnist():\n",
    "    mnist = fetch_openml('mnist_784', version=1)\n",
    "    images = mnist.data.to_numpy().reshape(-1, 28, 28)  # Reshape to 28x28\n",
    "    labels = mnist.target.astype(int).to_numpy()\n",
    "    return images, labels\n",
    "\n",
    "images, labels = load_mnist()\n",
    "# print(images.shape, labels.shape)\n",
    "# Define Convolution Function\n",
    "def convolve(image, kernel):\n",
    "    kernel_height, kernel_width = kernel.shape\n",
    "    img_height, img_width = image.shape\n",
    "    output = np.zeros((img_height - kernel_height + 1, img_width - kernel_width + 1))\n",
    "\n",
    "    for i in range(output.shape[0]):\n",
    "        for j in range(output.shape[1]):\n",
    "            output[i, j] = np.sum(image[i:i + kernel_height, j:j + kernel_width] * kernel)\n",
    "\n",
    "    return output\n",
    "\n",
    "# Sobel Filter Function\n",
    "def sobel_filter(image):\n",
    "    sobel_x = np.array([[1, 0, -1], [-2, 0, 2], [1, 0, -1]])\n",
    "    sobel_y = np.array([[1, 2, 1], [0, 0, 0], [-1, -2, -1]])\n",
    "\n",
    "    gx = convolve(image, sobel_x)\n",
    "    gy = convolve(image, sobel_y)\n",
    "\n",
    "    print(len(gx), len(gy))\n",
    "    return np.sqrt(gx**2 + gy**2)\n",
    "\n",
    "# Apply Sobel filter to an example image and visualize\n",
    "example_image = images[0]\n",
    "filtered_image = sobel_filter(example_image)\n",
    "\n",
    "plt.imshow(filtered_image, cmap='gray')\n",
    "plt.title(\"Sobel Filtered Image\")\n",
    "plt.show()\n"
   ],
   "outputs": [
    {
     "name": "stdout",
     "output_type": "stream",
     "text": [
      "26 26\n"
     ]
    },
    {
     "data": {
      "text/plain": [
       "<Figure size 640x480 with 1 Axes>"
      ],
      "image/png": "[encoded data removed]"
     },
     "metadata": {},
     "output_type": "display_data"
    }
   ],
   "execution_count": 7
  },
  {
   "metadata": {
    "ExecuteTime": {
     "end_time": "2024-11-19T06:05:02.968065Z",
     "start_time": "2024-11-19T06:05:02.889143Z"
    }
   },
   "cell_type": "code",
   "source": [
    "from skimage.feature import hog\n",
    "def calculate_hog_features(image):\n",
    "    gradient = sobel_filter(image)\n",
    "    print(len(gradient))\n",
    "    # Simulated HOG processing\n",
    "    hog_features = gradient.flatten()  # Simplified: flattening for representation\n",
    "    return hog_features\n",
    "\n",
    "# Example HOG Feature Extraction\n",
    "hog_features = calculate_hog_features(example_image)\n",
    "print(\"HOG Feature Vector Length:\", len(hog_features))\n"
   ],
   "id": "e4b1efa079ec89d9",
   "outputs": [
    {
     "name": "stdout",
     "output_type": "stream",
     "text": [
      "26\n",
      "HOG Feature Vector Length: 676\n"
     ]
    }
   ],
   "execution_count": 2
  },
  {
   "metadata": {
    "ExecuteTime": {
     "end_time": "2024-11-14T16:29:22.483145Z",
     "start_time": "2024-11-14T16:29:15.771218Z"
    }
   },
   "cell_type": "code",
   "source": [
    "from sklearn.decomposition import PCA\n",
    "\n",
    "def center_images(images):\n",
    "    mean_image = np.mean(images, axis=0)\n",
    "    centered_images = images - mean_image\n",
    "    return centered_images\n",
    "\n",
    "def apply_pca(images, n_components):\n",
    "    pca = PCA(n_components=n_components)\n",
    "    transformed_images = pca.fit_transform(images)\n",
    "    return transformed_images, pca\n",
    "\n",
    "# Center and apply PCA to the dataset\n",
    "centered_images = center_images(images.reshape(-1, 784))  # Flatten images for PCA\n",
    "pca_transformed_images, pca_model = apply_pca(centered_images, n_components=50)\n",
    "\n",
    "print(\"PCA-transformed shape:\", pca_transformed_images.shape)\n"
   ],
   "id": "554a3290ed987fb4",
   "outputs": [
    {
     "name": "stdout",
     "output_type": "stream",
     "text": [
      "PCA-transformed shape: (70000, 50)\n"
     ]
    }
   ],
   "execution_count": 3
  },
  {
   "metadata": {
    "ExecuteTime": {
     "end_time": "2024-11-14T16:32:15.230259Z",
     "start_time": "2024-11-14T16:29:24.186351Z"
    }
   },
   "cell_type": "code",
   "source": [
    "from sklearn.tree import DecisionTreeClassifier\n",
    "from sklearn.model_selection import GridSearchCV, train_test_split\n",
    "\n",
    "def tune_decision_tree(train_data, train_labels):\n",
    "    param_grid = {'max_depth': [5, 10, 15], 'min_samples_split': [2, 5, 10]}\n",
    "    dt = DecisionTreeClassifier()\n",
    "    grid_search = GridSearchCV(dt, param_grid, cv=5)\n",
    "    grid_search.fit(train_data, train_labels)\n",
    "    return grid_search.best_estimator_\n",
    "\n",
    "# Split dataset into train and test sets\n",
    "train_data, test_data, train_labels, test_labels = train_test_split(pca_transformed_images, labels, test_size=0.2, random_state=42)\n",
    "\n",
    "# Train with hyperparameter tuning\n",
    "best_dt_model = tune_decision_tree(train_data, train_labels)\n",
    "print(\"Best Decision Tree Parameters:\", best_dt_model.get_params())\n"
   ],
   "id": "1b071b5fac1bc75e",
   "outputs": [
    {
     "name": "stdout",
     "output_type": "stream",
     "text": [
      "Best Decision Tree Parameters: {'ccp_alpha': 0.0, 'class_weight': None, 'criterion': 'gini', 'max_depth': 15, 'max_features': None, 'max_leaf_nodes': None, 'min_impurity_decrease': 0.0, 'min_samples_leaf': 1, 'min_samples_split': 5, 'min_weight_fraction_leaf': 0.0, 'monotonic_cst': None, 'random_state': None, 'splitter': 'best'}\n"
     ]
    }
   ],
   "execution_count": 4
  },
  {
   "metadata": {
    "jupyter": {
     "is_executing": true
    },
    "ExecuteTime": {
     "start_time": "2024-11-14T16:32:15.338353Z"
    }
   },
   "cell_type": "code",
   "source": [
    "from sklearn.svm import SVC\n",
    "from sklearn.metrics import classification_report\n",
    "\n",
    "def train_svm(train_data, train_labels):\n",
    "    svm = SVC(kernel='linear', C=1.0)\n",
    "    svm.fit(train_data, train_labels)\n",
    "    return svm\n",
    "\n",
    "# Train the SVM model\n",
    "svm_model = train_svm(train_data, train_labels)\n",
    "\n",
    "# Evaluate and compare the Decision Tree and SVM models\n",
    "def evaluate_model(model, test_data, test_labels, model_name):\n",
    "    predictions = model.predict(test_data)\n",
    "    print(f\"{model_name} Classification Report:\\n\", classification_report(test_labels, predictions))\n",
    "\n",
    "evaluate_model(best_dt_model, test_data, test_labels, \"Decision Tree\")\n",
    "evaluate_model(svm_model, test_data, test_labels, \"SVM\")\n"
   ],
   "id": "70bea2f7144bbbfd",
   "outputs": [],
   "execution_count": null
  },
  {
   "metadata": {},
   "cell_type": "code",
   "outputs": [],
   "execution_count": null,
   "source": [
    "import seaborn as sns\n",
    "from sklearn.metrics import confusion_matrix\n",
    "\n",
    "def plot_confusion_matrix(y_true, y_pred):\n",
    "    cm = confusion_matrix(y_true, y_pred)\n",
    "    plt.figure(figsize=(10, 7))\n",
    "    sns.heatmap(cm, annot=True, fmt='d', cmap='Blues')\n",
    "    plt.xlabel('Predicted')\n",
    "    plt.ylabel('True')\n",
    "    plt.title('Confusion Matrix')\n",
    "    plt.show()\n",
    "\n",
    "# Generate and plot confusion matrix for Decision Tree\n",
    "dt_predictions = best_dt_model.predict(test_data)\n",
    "plot_confusion_matrix(test_labels, dt_predictions)\n",
    "\n",
    "# Generate and plot confusion matrix for SVM\n",
    "svm_predictions = svm_model.predict(test_data)\n",
    "plot_confusion_matrix(test_labels, svm_predictions)\n"
   ],
   "id": "d2f5143c40c587e9"
  },
  {
   "metadata": {},
   "cell_type": "code",
   "outputs": [],
   "execution_count": null,
   "source": [
    "def prune_tree(train_data, train_labels):\n",
    "    pruned_tree = DecisionTreeClassifier(max_depth=5, min_samples_split=5)\n",
    "    pruned_tree.fit(train_data, train_labels)\n",
    "    return pruned_tree\n",
    "\n",
    "# Prune the Decision Tree\n",
    "pruned_dt_model = prune_tree(train_data, train_labels)\n",
    "\n",
    "# Evaluate the pruned model\n",
    "evaluate_model(pruned_dt_model, test_data, test_labels, \"Pruned Decision Tree\")\n"
   ],
   "id": "90ef18f275e15e92"
  }
 ],
 "metadata": {
  "kernelspec": {
   "display_name": "Python 3",
   "language": "python",
   "name": "python3"
  },
  "language_info": {
   "codemirror_mode": {
    "name": "ipython",
    "version": 2
   },
   "file_extension": ".py",
   "mimetype": "text/x-python",
   "name": "python",
   "nbconvert_exporter": "python",
   "pygments_lexer": "ipython2",
   "version": "2.7.6"
  }
 },
 "nbformat": 4,
 "nbformat_minor": 5
}
