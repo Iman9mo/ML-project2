{
 "cells": [
  {
   "cell_type": "code",
   "id": "initial_id",
   "metadata": {
    "collapsed": true,
    "ExecuteTime": {
     "end_time": "2024-11-22T06:53:26.156741Z",
     "start_time": "2024-11-22T06:53:26.144166Z"
    }
   },
   "source": [
    "from sklearn.model_selection import train_test_split, GridSearchCV\n",
    "from sklearn.tree import DecisionTreeClassifier\n",
    "import pandas as pd\n",
    "\n",
    "\n",
    "def evaluate_decision_tree(file_name):\n",
    "    # Load the dataset\n",
    "    data = pd.read_csv(file_name)\n",
    "    X = data.iloc[:, :-1].values  # All columns except the last\n",
    "    y = data.iloc[:, -1].values  # labels\n",
    "\n",
    "    # Split data into training and testing sets\n",
    "    X_train, X_test, y_train, y_test = train_test_split(X, y, test_size=0.2, random_state=42)\n",
    "\n",
    "    # Define the Decision Tree model\n",
    "    model = DecisionTreeClassifier(random_state=42)\n",
    "\n",
    "    # Create a hyperparameter grid\n",
    "    param_grid = {\n",
    "        'max_depth': [None, 10, 20, 30, 40, 50],\n",
    "        'min_samples_split': [2, 5, 10, 20],\n",
    "        'criterion': ['gini', 'entropy']\n",
    "    }\n",
    "\n",
    "    # Set up GridSearchCV with 5-fold cross-validation\n",
    "    grid_search = GridSearchCV(estimator=model, param_grid=param_grid, cv=5, scoring='accuracy')\n",
    "\n",
    "    # Fit the model on the training data\n",
    "    grid_search.fit(X_train, y_train)\n",
    "\n",
    "    # Collect results\n",
    "    best_params = grid_search.best_params_\n",
    "    best_score = grid_search.best_score_\n",
    "\n",
    "    # Evaluate the best model on the test data\n",
    "    best_model = grid_search.best_estimator_\n",
    "    test_accuracy = best_model.score(X_test, y_test)\n",
    "\n",
    "    return best_params, best_score, test_accuracy\n"
   ],
   "outputs": [],
   "execution_count": 2
  },
  {
   "metadata": {
    "ExecuteTime": {
     "end_time": "2024-11-22T08:00:46.772427Z",
     "start_time": "2024-11-22T06:53:26.218527Z"
    }
   },
   "cell_type": "code",
   "source": [
    "best_params, best_score, test_accuracy = evaluate_decision_tree('raw_reduced.csv')\n",
    "print(\"Best Hyperparameters:\", best_params)\n",
    "print(\"Best Accuracy (CV):\", best_score)\n",
    "print(\"Test Accuracy:\", test_accuracy)"
   ],
   "id": "6e564b2eed77fa9a",
   "outputs": [
    {
     "name": "stdout",
     "output_type": "stream",
     "text": [
      "Best Hyperparameters: {'criterion': 'entropy', 'max_depth': 20, 'min_samples_split': 10}\n",
      "Best Accuracy (CV): 0.839482142857143\n",
      "Test Accuracy: 0.8447857142857143\n"
     ]
    }
   ],
   "execution_count": 3
  },
  {
   "metadata": {
    "ExecuteTime": {
     "end_time": "2024-11-22T09:40:23.842521Z",
     "start_time": "2024-11-22T08:00:47.021587Z"
    }
   },
   "cell_type": "code",
   "source": [
    "best_params, best_score, test_accuracy = evaluate_decision_tree('sobel_hog_reduced.csv')\n",
    "print(\"Best Hyperparameters:\", best_params)\n",
    "print(\"Best Accuracy (CV):\", best_score)\n",
    "print(\"Test Accuracy:\", test_accuracy)"
   ],
   "id": "25521c1610a9c1cf",
   "outputs": [
    {
     "name": "stdout",
     "output_type": "stream",
     "text": [
      "Best Hyperparameters: {'criterion': 'entropy', 'max_depth': 20, 'min_samples_split': 20}\n",
      "Best Accuracy (CV): 0.8113035714285715\n",
      "Test Accuracy: 0.8175714285714286\n"
     ]
    }
   ],
   "execution_count": 4
  },
  {
   "metadata": {
    "ExecuteTime": {
     "end_time": "2024-11-22T14:40:09.843903Z",
     "start_time": "2024-11-22T09:40:23.947411Z"
    }
   },
   "cell_type": "code",
   "source": [
    "\n",
    "\n",
    "best_params, best_score, test_accuracy = evaluate_decision_tree('mnist_gaussian_hog_concatenated.csv')\n",
    "print(\"Best Hyperparameters:\", best_params)\n",
    "print(\"Best Accuracy (CV):\", best_score)\n",
    "print(\"Test Accuracy:\", test_accuracy)"
   ],
   "id": "433388171f7b6463",
   "outputs": [
    {
     "name": "stdout",
     "output_type": "stream",
     "text": [
      "Best Hyperparameters: {'criterion': 'entropy', 'max_depth': None, 'min_samples_split': 5}\n",
      "Best Accuracy (CV): 0.9039642857142857\n",
      "Test Accuracy: 0.9066428571428572\n"
     ]
    }
   ],
   "execution_count": 5
  },
  {
   "metadata": {
    "ExecuteTime": {
     "end_time": "2024-11-22T18:13:46.087063Z",
     "start_time": "2024-11-22T14:40:10.107283Z"
    }
   },
   "cell_type": "code",
   "source": [
    "best_params, best_score, test_accuracy = evaluate_decision_tree('mnist_sobel.csv')\n",
    "print(\"Best Hyperparameters:\", best_params)\n",
    "print(\"Best Accuracy (CV):\", best_score)\n",
    "print(\"Test Accuracy:\", test_accuracy)"
   ],
   "id": "e616137d03db3e7b",
   "outputs": [
    {
     "name": "stdout",
     "output_type": "stream",
     "text": [
      "Best Hyperparameters: {'criterion': 'entropy', 'max_depth': 20, 'min_samples_split': 5}\n",
      "Best Accuracy (CV): 0.8431964285714285\n",
      "Test Accuracy: 0.851\n"
     ]
    }
   ],
   "execution_count": 6
  }
 ],
 "metadata": {
  "kernelspec": {
   "display_name": "Python 3",
   "language": "python",
   "name": "python3"
  },
  "language_info": {
   "codemirror_mode": {
    "name": "ipython",
    "version": 2
   },
   "file_extension": ".py",
   "mimetype": "text/x-python",
   "name": "python",
   "nbconvert_exporter": "python",
   "pygments_lexer": "ipython2",
   "version": "2.7.6"
  }
 },
 "nbformat": 4,
 "nbformat_minor": 5
}
