{
 "cells": [
  {
   "cell_type": "code",
   "id": "initial_id",
   "metadata": {
    "collapsed": true,
    "ExecuteTime": {
     "end_time": "2024-11-20T08:24:59.575239Z",
     "start_time": "2024-11-20T08:24:58.646091Z"
    }
   },
   "source": [
    "import numpy as np\n",
    "import pandas as pd\n",
    "from sklearn.datasets import load_iris\n",
    "from sklearn.model_selection import train_test_split\n",
    "from sklearn.tree import DecisionTreeClassifier\n",
    "from sklearn.svm import SVC\n",
    "from sklearn.metrics import confusion_matrix, precision_score, recall_score, f1_score\n",
    "\n",
    "# Load dataset\n",
    "data = load_iris()\n",
    "X = data.data\n",
    "y = data.target\n",
    "\n",
    "# Split the dataset into training and testing sets\n",
    "X_train, X_test, y_train, y_test = train_test_split(X, y, test_size=0.2, random_state=42)\n"
   ],
   "outputs": [],
   "execution_count": 1
  },
  {
   "metadata": {
    "ExecuteTime": {
     "end_time": "2024-11-20T08:24:59.605284Z",
     "start_time": "2024-11-20T08:24:59.587251Z"
    }
   },
   "cell_type": "code",
   "source": [
    "# Train Decision Tree model\n",
    "dt_model = DecisionTreeClassifier()\n",
    "dt_model.fit(X_train, y_train)\n",
    "\n",
    "# Make predictions\n",
    "dt_predictions = dt_model.predict(X_test)\n"
   ],
   "id": "86ee1162c159d9fa",
   "outputs": [],
   "execution_count": 2
  },
  {
   "metadata": {
    "ExecuteTime": {
     "end_time": "2024-11-20T08:25:00.976745Z",
     "start_time": "2024-11-20T08:25:00.952269Z"
    }
   },
   "cell_type": "code",
   "source": [
    "# Calculate confusion matrix\n",
    "dt_confusion_matrix = confusion_matrix(y_test, dt_predictions)\n",
    "print(\"Decision Tree Confusion Matrix:\\n\", dt_confusion_matrix)\n",
    "\n",
    "# Calculate precision, recall, and F1-score\n",
    "dt_precision = precision_score(y_test, dt_predictions, average='weighted')\n",
    "dt_recall = recall_score(y_test, dt_predictions, average='weighted')\n",
    "dt_f1_score = f1_score(y_test, dt_predictions, average='weighted')\n",
    "\n",
    "print(f\"Decision Tree Precision: {dt_precision:.2f}\")\n",
    "print(f\"Decision Tree Recall: {dt_recall:.2f}\")\n",
    "print(f\"Decision Tree F1 Score: {dt_f1_score:.2f}\")\n"
   ],
   "id": "af5e464daa10056f",
   "outputs": [
    {
     "name": "stdout",
     "output_type": "stream",
     "text": [
      "Decision Tree Confusion Matrix:\n",
      " [[10  0  0]\n",
      " [ 0  9  0]\n",
      " [ 0  0 11]]\n",
      "Decision Tree Precision: 1.00\n",
      "Decision Tree Recall: 1.00\n",
      "Decision Tree F1 Score: 1.00\n"
     ]
    }
   ],
   "execution_count": 3
  },
  {
   "metadata": {
    "ExecuteTime": {
     "end_time": "2024-11-20T08:25:01.015777Z",
     "start_time": "2024-11-20T08:25:01.006858Z"
    }
   },
   "cell_type": "code",
   "source": [
    "# Train SVM model\n",
    "svm_model = SVC()\n",
    "svm_model.fit(X_train, y_train)\n",
    "\n",
    "# Make predictions\n",
    "svm_predictions = svm_model.predict(X_test)\n"
   ],
   "id": "5ecd29849e07beab",
   "outputs": [],
   "execution_count": 4
  },
  {
   "metadata": {
    "ExecuteTime": {
     "end_time": "2024-11-20T08:25:01.076520Z",
     "start_time": "2024-11-20T08:25:01.064479Z"
    }
   },
   "cell_type": "code",
   "source": [
    "# Calculate confusion matrix\n",
    "svm_confusion_matrix = confusion_matrix(y_test, svm_predictions)\n",
    "print(\"SVM Confusion Matrix:\\n\", svm_confusion_matrix)\n",
    "\n",
    "# Calculate precision, recall, and F1-score\n",
    "svm_precision = precision_score(y_test, svm_predictions, average='weighted')\n",
    "svm_recall = recall_score(y_test, svm_predictions, average='weighted')\n",
    "svm_f1_score = f1_score(y_test, svm_predictions, average='weighted')\n",
    "\n",
    "print(f\"SVM Precision: {svm_precision:.2f}\")\n",
    "print(f\"SVM Recall: {svm_recall:.2f}\")\n",
    "print(f\"SVM F1 Score: {svm_f1_score:.2f}\")"
   ],
   "id": "3204731b30929cba",
   "outputs": [
    {
     "name": "stdout",
     "output_type": "stream",
     "text": [
      "SVM Confusion Matrix:\n",
      " [[10  0  0]\n",
      " [ 0  9  0]\n",
      " [ 0  0 11]]\n",
      "SVM Precision: 1.00\n",
      "SVM Recall: 1.00\n",
      "SVM F1 Score: 1.00\n"
     ]
    }
   ],
   "execution_count": 5
  }
 ],
 "metadata": {
  "kernelspec": {
   "display_name": "Python 3",
   "language": "python",
   "name": "python3"
  },
  "language_info": {
   "codemirror_mode": {
    "name": "ipython",
    "version": 2
   },
   "file_extension": ".py",
   "mimetype": "text/x-python",
   "name": "python",
   "nbconvert_exporter": "python",
   "pygments_lexer": "ipython2",
   "version": "2.7.6"
  }
 },
 "nbformat": 4,
 "nbformat_minor": 5
}
